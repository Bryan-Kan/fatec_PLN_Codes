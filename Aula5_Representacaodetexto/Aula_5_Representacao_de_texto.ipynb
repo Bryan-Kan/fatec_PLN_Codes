{
  "nbformat": 4,
  "nbformat_minor": 0,
  "metadata": {
    "colab": {
      "provenance": [],
      "authorship_tag": "ABX9TyP4lGHe8L7DdW1V23EOQ2Ih",
      "include_colab_link": true
    },
    "kernelspec": {
      "name": "python3",
      "display_name": "Python 3"
    },
    "language_info": {
      "name": "python"
    }
  },
  "cells": [
    {
      "cell_type": "markdown",
      "metadata": {
        "id": "view-in-github",
        "colab_type": "text"
      },
      "source": [
        "<a href=\"https://colab.research.google.com/github/Bryan-Kan/fatec_PLN_Codes/blob/master/Aula5_Representacaodetexto/Aula_5_Representacao_de_texto.ipynb\" target=\"_parent\"><img src=\"https://colab.research.google.com/assets/colab-badge.svg\" alt=\"Open In Colab\"/></a>"
      ]
    },
    {
      "cell_type": "markdown",
      "source": [
        "# **Aula 05**"
      ],
      "metadata": {
        "id": "YsrrZ4zhapmU"
      }
    },
    {
      "cell_type": "code",
      "execution_count": null,
      "metadata": {
        "id": "0bGP-h6bZsh1"
      },
      "outputs": [],
      "source": [
        "from sklearn.feature_extraction.text import CountVectorizer\n",
        "\n",
        "documentos = [\n",
        "    \"gato e cachorro\",\n",
        "    \"gato brinca com cachorro\",\n",
        "    \"gato e rato\"\n",
        "]\n",
        "\n",
        "vectorizer = CountVectorizer()\n",
        "\n",
        "X = vectorizer.fit_transform(documentos)\n",
        "\n",
        "print(\"Matriz BoW:\")\n",
        "print(X.toarray())\n",
        "\n",
        "print(f\"Vocabulario: {vectorizer.vocabulary_}\")"
      ]
    },
    {
      "cell_type": "markdown",
      "source": [
        "# Exemplo 2"
      ],
      "metadata": {
        "id": "R84Di_LNhu_T"
      }
    },
    {
      "cell_type": "code",
      "source": [
        "from sklearn.feature_extraction.text import CountVectorizer\n",
        "from sklearn.feature_extraction.text import TfidfVectorizer\n",
        "\n",
        "documentos = [\n",
        "    \"O cahchorro gosta de passear no parque\",\n",
        "    \"O gato dorme no sofá o dia todo\",\n",
        "    \"Cachorros e gatos podem ser bons amigos\"\n",
        "]\n",
        "\n",
        "vectorizer_bow = CountVectorizer()\n",
        "X_bow = vectorizer_bow.fit_transform(documentos)\n",
        "\n",
        "print(f\"Vocbulario BoW: {vectorizer_bow.vocabulary_}\")\n",
        "print(\"Matriz BoW:\")\n",
        "print(X_bow.toarray())\n",
        "\n",
        "vectorizer_tfidf = TfidfVectorizer()\n",
        "X_tfidf = vectorizer_tfidf.fit_transform(documentos)\n",
        "\n",
        "print(f\"\\nVocabulario TF-IDF: {vectorizer_tfidf.vocabulary_}\")\n",
        "print(\"Matriz TF-IDF\")\n",
        "print(X_tfidf.toarray())"
      ],
      "metadata": {
        "id": "XwaWVrRehuYM"
      },
      "execution_count": null,
      "outputs": []
    },
    {
      "cell_type": "markdown",
      "source": [
        "# Exemplo 3"
      ],
      "metadata": {
        "id": "TPtlXwdandH4"
      }
    },
    {
      "cell_type": "code",
      "source": [
        "import nltk\n",
        "import re\n",
        "from nltk.corpus import stopwords\n",
        "from nltk.tokenize import word_tokenize\n",
        "from nltk.stem import WordNetLemmatizer\n",
        "from sklearn.feature_extraction.text import CountVectorizer\n",
        "\n",
        "nltk.download('punkt')\n",
        "nltk.download('stopwords')\n",
        "nltk.download('stopwords')\n",
        "nltk.download('wordnet')\n",
        "nltk.download('omw-1.4')\n",
        "\n",
        "documentos = [\n",
        "    \"Os cachorros são animais muito amigáveis e leais!\",\n",
        "    \"Eu gosto de gatos porque eles são independentes e fofos.\",\n",
        "    \"Cachorros e gatos podem ser ótimos animais de estimaçãos\"\n",
        "]\n",
        "\n",
        "lemmatizer = WordNetLemmatizer()\n",
        "stop_words = set(stopwords.words(\"portuguese\"))\n",
        "\n",
        "def preprocessar_texto(texto):\n",
        "  texto = re.sub(r'[^a-zA-Zá-ÿ\\s]', '', texto)\n",
        "  tokens_tudo = word_tokenize(texto.lower())\n",
        "  tokens = [palavra for palavra in tokens_tudo if palavra not in stop_words]\n",
        "  tokens_lema = [lemmatizer.lemmatize(palavra) for palavra in tokens]\n",
        "  return ' '.join(tokens_lema)\n",
        "\n",
        "documentos_processados = [preprocessar_texto(doc) for doc in documentos]\n",
        "\n",
        "print('documentos Pré-processados:')\n",
        "for i, doc in enumerate(documentos_processados):\n",
        "  print(f\"Documento {i + 1}: {doc}\")\n",
        "\n",
        "vectorizer = CountVectorizer()\n",
        "X_bow = vectorizer.fit_transform(documentos_processados)\n",
        "\n",
        "print(\"\\nVocbulario BoW:\", vectorizer.vocabulary_)\n",
        "print(\"Matriz BoW:\")\n",
        "print(X_bow.toarray())"
      ],
      "metadata": {
        "colab": {
          "base_uri": "https://localhost:8080/"
        },
        "id": "SlOiNqT9ngPu",
        "outputId": "5a091fe6-ec6d-4de6-a8db-224fc901771b"
      },
      "execution_count": null,
      "outputs": [
        {
          "output_type": "stream",
          "name": "stderr",
          "text": [
            "[nltk_data] Downloading package punkt to /root/nltk_data...\n",
            "[nltk_data]   Unzipping tokenizers/punkt.zip.\n",
            "[nltk_data] Downloading package stopwords to /root/nltk_data...\n",
            "[nltk_data]   Unzipping corpora/stopwords.zip.\n",
            "[nltk_data] Downloading package stopwords to /root/nltk_data...\n",
            "[nltk_data]   Package stopwords is already up-to-date!\n",
            "[nltk_data] Downloading package wordnet to /root/nltk_data...\n",
            "[nltk_data] Downloading package omw-1.4 to /root/nltk_data...\n"
          ]
        },
        {
          "output_type": "stream",
          "name": "stdout",
          "text": [
            "documentos Pré-processados:\n",
            "Documento 1: cachorros animais amigáveis leais\n",
            "Documento 2: gosto gatos porque independentes fofos\n",
            "Documento 3: cachorros gatos podem ótimos animais estimaçãos\n",
            "\n",
            "Vocbulario BoW: {'cachorros': 2, 'animais': 1, 'amigáveis': 0, 'leais': 8, 'gosto': 6, 'gatos': 5, 'porque': 10, 'independentes': 7, 'fofos': 4, 'podem': 9, 'ótimos': 11, 'estimaçãos': 3}\n",
            "Matriz BoW:\n",
            "[[1 1 1 0 0 0 0 0 1 0 0 0]\n",
            " [0 0 0 0 1 1 1 1 0 0 1 0]\n",
            " [0 1 1 1 0 1 0 0 0 1 0 1]]\n"
          ]
        }
      ]
    }
  ]
}